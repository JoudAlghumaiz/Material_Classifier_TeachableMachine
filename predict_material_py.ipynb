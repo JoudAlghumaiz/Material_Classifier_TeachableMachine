{
  "nbformat": 4,
  "nbformat_minor": 0,
  "metadata": {
    "colab": {
      "provenance": [],
      "mount_file_id": "1xKU1q5d08LK5PV_wAbWJkL1UOp0JwfP-",
      "authorship_tag": "ABX9TyP1hJTV7d1kTsUrVoqxhR9q",
      "include_colab_link": true
    },
    "kernelspec": {
      "name": "python3",
      "display_name": "Python 3"
    },
    "language_info": {
      "name": "python"
    }
  },
  "cells": [
    {
      "cell_type": "markdown",
      "metadata": {
        "id": "view-in-github",
        "colab_type": "text"
      },
      "source": [
        "<a href=\"https://colab.research.google.com/github/JoudAlghumaiz/Material_Classifier_TeachableMachine/blob/main/predict_material_py.ipynb\" target=\"_parent\"><img src=\"https://colab.research.google.com/assets/colab-badge.svg\" alt=\"Open In Colab\"/></a>"
      ]
    },
    {
      "cell_type": "code",
      "execution_count": 2,
      "metadata": {
        "colab": {
          "base_uri": "https://localhost:8080/"
        },
        "id": "4MFNOyKpdtR5",
        "outputId": "61da46d4-e88d-4305-caf7-22f662a53c70"
      },
      "outputs": [
        {
          "output_type": "stream",
          "name": "stdout",
          "text": [
            "Model 'keras_model.h5' loaded successfully.\n",
            "Labels loaded successfully: ['Conductors', 'Insulators', 'Semiconductors']\n",
            "\n",
            "--- Starting material classification for 'gold.jpg' ---\n",
            "1/1 [==============================] - 1s 1s/step\n",
            "\n",
            "Prediction for 'gold.jpg':\n",
            "  Predicted Material Type: Conductors\n",
            "  Confidence: 98.04%\n",
            "\n",
            "All class probabilities:\n",
            "  Conductors: 0.98%\n",
            "  Insulators: 0.01%\n",
            "  Semiconductors: 0.01%\n",
            "\n",
            "--- Material classification complete ---\n"
          ]
        }
      ],
      "source": [
        "import tensorflow as tf\n",
        "from tensorflow.keras.models import load_model\n",
        "from PIL import Image, ImageOps\n",
        "import numpy as np\n",
        "import os\n",
        "\n",
        "# --- Configuration ---\n",
        "# Path to your Teachable Machine model file (keras_model.h5)\n",
        "MODEL_PATH = 'keras_model.h5'\n",
        "# Path to your Teachable Machine labels file (labels.txt)\n",
        "LABELS_PATH = 'labels.txt'\n",
        "# Path to the input image you want to classify\n",
        "# Make sure this image exists in the same directory or provide full path\n",
        "INPUT_IMAGE_PATH = 'gold.jpg'\n",
        "\n",
        "# Model's input image dimensions (Teachable Machine usually exports 224x224)\n",
        "IMAGE_WIDTH = 224\n",
        "IMAGE_HEIGHT = 224\n",
        "\n",
        "# --- Load the Model ---\n",
        "try:\n",
        "    model = load_model(MODEL_PATH, compile=False)\n",
        "    print(f\"Model '{MODEL_PATH}' loaded successfully.\")\n",
        "except Exception as e:\n",
        "    print(f\"Error loading model: {e}\")\n",
        "    print(\"Please ensure 'keras_model.h5' is in the same directory or correct path is provided.\")\n",
        "    exit()\n",
        "\n",
        "# --- Load the Labels ---\n",
        "class_names = []\n",
        "try:\n",
        "    with open(LABELS_PATH, 'r') as f:\n",
        "        for line in f:\n",
        "            # Labels usually come with a number prefix (e.g., \"0 ClassName\")\n",
        "            # This extracts \"ClassName\" from \"0 ClassName\"\n",
        "            class_names.append(line.strip().split(' ', 1)[1])\n",
        "    print(f\"Labels loaded successfully: {class_names}\")\n",
        "except Exception as e:\n",
        "    print(f\"Error loading labels: {e}\")\n",
        "    print(\"Please ensure 'labels.txt' is in the same directory or correct path is provided.\")\n",
        "    exit()\n",
        "\n",
        "# --- Function to preprocess the image ---\n",
        "def preprocess_image(image_path):\n",
        "    # Check if the image file exists\n",
        "    if not os.path.exists(image_path):\n",
        "        print(f\"Error: Input image '{image_path}' not found.\")\n",
        "        return None\n",
        "\n",
        "    try:\n",
        "        # Open the image\n",
        "        image = Image.open(image_path).convert('RGB')\n",
        "\n",
        "        # Resize the image to be at least (IMAGE_WIDTH, IMAGE_HEIGHT)\n",
        "        # Teachable Machine's preprocessing often involves padding to square\n",
        "        # and then resizing. Let's replicate that.\n",
        "        size = (IMAGE_WIDTH, IMAGE_HEIGHT)\n",
        "        image = ImageOps.fit(image, size, Image.Resampling.LANCZOS) # Use LANCZOS for quality\n",
        "\n",
        "        # Convert image to numpy array\n",
        "        image_array = np.asarray(image)\n",
        "\n",
        "        # Normalize the image (Teachable Machine models expect values between -1 and 1)\n",
        "        normalized_image_array = (image_array.astype(np.float32) / 127.5) - 1\n",
        "\n",
        "        # Expand dimensions to create a batch of 1 image (required by model.predict)\n",
        "        data = np.ndarray(shape=(1, IMAGE_WIDTH, IMAGE_HEIGHT, 3), dtype=np.float32)\n",
        "        data[0] = normalized_image_array\n",
        "\n",
        "        return data\n",
        "\n",
        "    except Exception as e:\n",
        "        print(f\"Error processing image '{image_path}': {e}\")\n",
        "        return None\n",
        "\n",
        "# --- Main prediction logic ---\n",
        "if __name__ == \"__main__\":\n",
        "    print(f\"\\n--- Starting material classification for '{INPUT_IMAGE_PATH}' ---\")\n",
        "\n",
        "    # Preprocess the input image\n",
        "    processed_data = preprocess_image(INPUT_IMAGE_PATH)\n",
        "\n",
        "    if processed_data is not None:\n",
        "        # Make a prediction\n",
        "        prediction = model.predict(processed_data)\n",
        "\n",
        "        # Get the index of the class with the highest probability\n",
        "        predicted_class_index = np.argmax(prediction)\n",
        "\n",
        "        # Get the predicted class name\n",
        "        predicted_class_name = class_names[predicted_class_index]\n",
        "\n",
        "        # Get the confidence score for the predicted class\n",
        "        confidence_score = prediction[0][predicted_class_index] * 100\n",
        "\n",
        "        print(f\"\\nPrediction for '{INPUT_IMAGE_PATH}':\")\n",
        "        print(f\"  Predicted Material Type: {predicted_class_name}\")\n",
        "        print(f\"  Confidence: {confidence_score:.2f}%\")\n",
        "\n",
        "        # You can also print all probabilities if desired\n",
        "        print(\"\\nAll class probabilities:\")\n",
        "        for i, prob in enumerate(prediction[0]):\n",
        "            print(f\"  {class_names[i]}: {prob:.2f}%\")\n",
        "    else:\n",
        "        print(\"Image preprocessing failed, cannot make a prediction.\")\n",
        "\n",
        "    print(\"\\n--- Material classification complete ---\")"
      ]
    },
    {
      "cell_type": "code",
      "source": [],
      "metadata": {
        "id": "uvbrsq43gPol"
      },
      "execution_count": 1,
      "outputs": []
    },
    {
      "cell_type": "code",
      "metadata": {
        "colab": {
          "base_uri": "https://localhost:8080/"
        },
        "id": "85712a75",
        "outputId": "f6a97cc9-c8d4-43c8-c3fd-797f020e88a3"
      },
      "source": [
        "!pip install tensorflow==2.15.0"
      ],
      "execution_count": 1,
      "outputs": [
        {
          "output_type": "stream",
          "name": "stdout",
          "text": [
            "Requirement already satisfied: tensorflow==2.15.0 in /usr/local/lib/python3.11/dist-packages (2.15.0)\n",
            "Requirement already satisfied: absl-py>=1.0.0 in /usr/local/lib/python3.11/dist-packages (from tensorflow==2.15.0) (1.4.0)\n",
            "Requirement already satisfied: astunparse>=1.6.0 in /usr/local/lib/python3.11/dist-packages (from tensorflow==2.15.0) (1.6.3)\n",
            "Requirement already satisfied: flatbuffers>=23.5.26 in /usr/local/lib/python3.11/dist-packages (from tensorflow==2.15.0) (25.2.10)\n",
            "Requirement already satisfied: gast!=0.5.0,!=0.5.1,!=0.5.2,>=0.2.1 in /usr/local/lib/python3.11/dist-packages (from tensorflow==2.15.0) (0.6.0)\n",
            "Requirement already satisfied: google-pasta>=0.1.1 in /usr/local/lib/python3.11/dist-packages (from tensorflow==2.15.0) (0.2.0)\n",
            "Requirement already satisfied: h5py>=2.9.0 in /usr/local/lib/python3.11/dist-packages (from tensorflow==2.15.0) (3.14.0)\n",
            "Requirement already satisfied: libclang>=13.0.0 in /usr/local/lib/python3.11/dist-packages (from tensorflow==2.15.0) (18.1.1)\n",
            "Requirement already satisfied: ml-dtypes~=0.2.0 in /usr/local/lib/python3.11/dist-packages (from tensorflow==2.15.0) (0.2.0)\n",
            "Requirement already satisfied: numpy<2.0.0,>=1.23.5 in /usr/local/lib/python3.11/dist-packages (from tensorflow==2.15.0) (1.26.4)\n",
            "Requirement already satisfied: opt-einsum>=2.3.2 in /usr/local/lib/python3.11/dist-packages (from tensorflow==2.15.0) (3.4.0)\n",
            "Requirement already satisfied: packaging in /usr/local/lib/python3.11/dist-packages (from tensorflow==2.15.0) (25.0)\n",
            "Requirement already satisfied: protobuf!=4.21.0,!=4.21.1,!=4.21.2,!=4.21.3,!=4.21.4,!=4.21.5,<5.0.0dev,>=3.20.3 in /usr/local/lib/python3.11/dist-packages (from tensorflow==2.15.0) (4.25.8)\n",
            "Requirement already satisfied: setuptools in /usr/local/lib/python3.11/dist-packages (from tensorflow==2.15.0) (75.2.0)\n",
            "Requirement already satisfied: six>=1.12.0 in /usr/local/lib/python3.11/dist-packages (from tensorflow==2.15.0) (1.17.0)\n",
            "Requirement already satisfied: termcolor>=1.1.0 in /usr/local/lib/python3.11/dist-packages (from tensorflow==2.15.0) (3.1.0)\n",
            "Requirement already satisfied: typing-extensions>=3.6.6 in /usr/local/lib/python3.11/dist-packages (from tensorflow==2.15.0) (4.14.1)\n",
            "Requirement already satisfied: wrapt<1.15,>=1.11.0 in /usr/local/lib/python3.11/dist-packages (from tensorflow==2.15.0) (1.14.1)\n",
            "Requirement already satisfied: tensorflow-io-gcs-filesystem>=0.23.1 in /usr/local/lib/python3.11/dist-packages (from tensorflow==2.15.0) (0.37.1)\n",
            "Requirement already satisfied: grpcio<2.0,>=1.24.3 in /usr/local/lib/python3.11/dist-packages (from tensorflow==2.15.0) (1.74.0)\n",
            "Requirement already satisfied: tensorboard<2.16,>=2.15 in /usr/local/lib/python3.11/dist-packages (from tensorflow==2.15.0) (2.15.2)\n",
            "Requirement already satisfied: tensorflow-estimator<2.16,>=2.15.0 in /usr/local/lib/python3.11/dist-packages (from tensorflow==2.15.0) (2.15.0)\n",
            "Requirement already satisfied: keras<2.16,>=2.15.0 in /usr/local/lib/python3.11/dist-packages (from tensorflow==2.15.0) (2.15.0)\n",
            "Requirement already satisfied: wheel<1.0,>=0.23.0 in /usr/local/lib/python3.11/dist-packages (from astunparse>=1.6.0->tensorflow==2.15.0) (0.45.1)\n",
            "Requirement already satisfied: google-auth<3,>=1.6.3 in /usr/local/lib/python3.11/dist-packages (from tensorboard<2.16,>=2.15->tensorflow==2.15.0) (2.38.0)\n",
            "Requirement already satisfied: google-auth-oauthlib<2,>=0.5 in /usr/local/lib/python3.11/dist-packages (from tensorboard<2.16,>=2.15->tensorflow==2.15.0) (1.2.2)\n",
            "Requirement already satisfied: markdown>=2.6.8 in /usr/local/lib/python3.11/dist-packages (from tensorboard<2.16,>=2.15->tensorflow==2.15.0) (3.8.2)\n",
            "Requirement already satisfied: requests<3,>=2.21.0 in /usr/local/lib/python3.11/dist-packages (from tensorboard<2.16,>=2.15->tensorflow==2.15.0) (2.32.3)\n",
            "Requirement already satisfied: tensorboard-data-server<0.8.0,>=0.7.0 in /usr/local/lib/python3.11/dist-packages (from tensorboard<2.16,>=2.15->tensorflow==2.15.0) (0.7.2)\n",
            "Requirement already satisfied: werkzeug>=1.0.1 in /usr/local/lib/python3.11/dist-packages (from tensorboard<2.16,>=2.15->tensorflow==2.15.0) (3.1.3)\n",
            "Requirement already satisfied: cachetools<6.0,>=2.0.0 in /usr/local/lib/python3.11/dist-packages (from google-auth<3,>=1.6.3->tensorboard<2.16,>=2.15->tensorflow==2.15.0) (5.5.2)\n",
            "Requirement already satisfied: pyasn1-modules>=0.2.1 in /usr/local/lib/python3.11/dist-packages (from google-auth<3,>=1.6.3->tensorboard<2.16,>=2.15->tensorflow==2.15.0) (0.4.2)\n",
            "Requirement already satisfied: rsa<5,>=3.1.4 in /usr/local/lib/python3.11/dist-packages (from google-auth<3,>=1.6.3->tensorboard<2.16,>=2.15->tensorflow==2.15.0) (4.9.1)\n",
            "Requirement already satisfied: requests-oauthlib>=0.7.0 in /usr/local/lib/python3.11/dist-packages (from google-auth-oauthlib<2,>=0.5->tensorboard<2.16,>=2.15->tensorflow==2.15.0) (2.0.0)\n",
            "Requirement already satisfied: charset-normalizer<4,>=2 in /usr/local/lib/python3.11/dist-packages (from requests<3,>=2.21.0->tensorboard<2.16,>=2.15->tensorflow==2.15.0) (3.4.2)\n",
            "Requirement already satisfied: idna<4,>=2.5 in /usr/local/lib/python3.11/dist-packages (from requests<3,>=2.21.0->tensorboard<2.16,>=2.15->tensorflow==2.15.0) (3.10)\n",
            "Requirement already satisfied: urllib3<3,>=1.21.1 in /usr/local/lib/python3.11/dist-packages (from requests<3,>=2.21.0->tensorboard<2.16,>=2.15->tensorflow==2.15.0) (2.5.0)\n",
            "Requirement already satisfied: certifi>=2017.4.17 in /usr/local/lib/python3.11/dist-packages (from requests<3,>=2.21.0->tensorboard<2.16,>=2.15->tensorflow==2.15.0) (2025.7.14)\n",
            "Requirement already satisfied: MarkupSafe>=2.1.1 in /usr/local/lib/python3.11/dist-packages (from werkzeug>=1.0.1->tensorboard<2.16,>=2.15->tensorflow==2.15.0) (3.0.2)\n",
            "Requirement already satisfied: pyasn1<0.7.0,>=0.6.1 in /usr/local/lib/python3.11/dist-packages (from pyasn1-modules>=0.2.1->google-auth<3,>=1.6.3->tensorboard<2.16,>=2.15->tensorflow==2.15.0) (0.6.1)\n",
            "Requirement already satisfied: oauthlib>=3.0.0 in /usr/local/lib/python3.11/dist-packages (from requests-oauthlib>=0.7.0->google-auth-oauthlib<2,>=0.5->tensorboard<2.16,>=2.15->tensorflow==2.15.0) (3.3.1)\n"
          ]
        }
      ]
    }
  ]
}